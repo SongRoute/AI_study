{
 "cells": [
  {
   "cell_type": "code",
   "execution_count": null,
   "id": "gpu-auto-detect",
   "metadata": {},
   "outputs": [
    {
     "name": "stdout",
     "output_type": "stream",
     "text": [
      "❌ PyTorch is not installed or not available\n",
      "Error details: No module named 'torch'\n",
      "Please install PyTorch using: pip install torch\n"
     ]
    }
   ],
   "source": [
    "# Check if PyTorch is available and import it\n",
    "try:\n",
    "    import \n",
    "    torch\n",
    "    print(\"✓ PyTorch is successfully imported!\")\n",
    "    print(f\"PyTorch version: {torch.__version__}\")\n",
    "\n",
    "    # 💻 변경점 1: GPU 장치 자동 감지\n",
    "    # Apple Silicon(MPS) -> NVIDIA(CUDA) -> CPU 순서로 확인합니다.\n",
    "    if torch.backends.mps.is_available():\n",
    "        device = torch.device(\"mps\")\n",
    "        print(f\"✓ MPS is available! Using Apple Silicon GPU.\")\n",
    "    elif torch.cuda.is_available():\n",
    "        device = torch.device(\"cuda\")\n",
    "        print(f\"✓ CUDA is available! Device: {torch.cuda.get_device_name(0)}\")\n",
    "    else:\n",
    "        device = torch.device(\"cpu\")\n",
    "        print(\"💡 No GPU available. Using CPU.\")\n",
    "\n",
    "    # ✅ 변경점 2: 텐서를 감지된 장치로 이동\n",
    "    # .to(device)를 사용해 텐서를 GPU 또는 CPU로 보냅니다.\n",
    "    test_tensor = torch.tensor([1, 2, 3, 4, 5]).to(device)\n",
    "    \n",
    "    print(f\"✓ Test tensor created: {test_tensor}\")\n",
    "    print(f\"Tensor shape: {test_tensor.shape}\")\n",
    "    print(f\"Tensor device: {test_tensor.device}\") # 'mps' 또는 'cuda'로 출력됩니다.\n",
    "\n",
    "    # Basic tensor operation\n",
    "    squared_tensor = test_tensor ** 2\n",
    "    print(f\"✓ Basic operation test (squaring): {squared_tensor}\")\n",
    "\n",
    "    print(\"\\n🎉 PyTorch is working correctly on the specified device!\")\n",
    "\n",
    "except ImportError as e:\n",
    "    print(\"❌ PyTorch is not installed or not available\")\n",
    "    print(f\"Error details: {e}\")\n",
    "    print(\"Please install PyTorch using: pip install torch\")\n",
    "\n",
    "except Exception as e:\n",
    "    print(f\"❌ An error occurred while testing PyTorch: {e}\")"
   ]
  }
 ],
 "metadata": {
  "kernelspec": {
   "display_name": ".venv",
   "language": "python",
   "name": "python3"
  },
  "language_info": {
   "codemirror_mode": {
    "name": "ipython",
    "version": 3
   },
   "file_extension": ".py",
   "mimetype": "text/x-python",
   "name": "python",
   "nbconvert_exporter": "python",
   "pygments_lexer": "ipython3",
   "version": "3.13.5"
  }
 },
 "nbformat": 4,
 "nbformat_minor": 5
}

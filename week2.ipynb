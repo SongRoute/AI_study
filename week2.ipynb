{
 "cells": [
  {
   "cell_type": "code",
   "execution_count": 7,
   "id": "3304902d",
   "metadata": {},
   "outputs": [
    {
     "name": "stdout",
     "output_type": "stream",
     "text": [
      "PyTorch를 설치하는 중...\n",
      "Collecting torch\n",
      "  Downloading torch-2.8.0-cp313-none-macosx_11_0_arm64.whl.metadata (30 kB)\n",
      "Collecting filelock (from torch)\n",
      "  Using cached filelock-3.19.1-py3-none-any.whl.metadata (2.1 kB)\n",
      "Collecting typing-extensions>=4.10.0 (from torch)\n",
      "  Using cached typing_extensions-4.15.0-py3-none-any.whl.metadata (3.3 kB)\n",
      "Collecting setuptools (from torch)\n",
      "  Downloading setuptools-80.9.0-py3-none-any.whl.metadata (6.6 kB)\n",
      "Collecting sympy>=1.13.3 (from torch)\n",
      "  Using cached sympy-1.14.0-py3-none-any.whl.metadata (12 kB)\n",
      "Collecting networkx (from torch)\n",
      "  Using cached networkx-3.5-py3-none-any.whl.metadata (6.3 kB)\n",
      "Collecting jinja2 (from torch)\n",
      "  Using cached jinja2-3.1.6-py3-none-any.whl.metadata (2.9 kB)\n",
      "Collecting fsspec (from torch)\n",
      "  Using cached fsspec-2025.9.0-py3-none-any.whl.metadata (10 kB)\n",
      "Collecting mpmath<1.4,>=1.1.0 (from sympy>=1.13.3->torch)\n",
      "  Using cached mpmath-1.3.0-py3-none-any.whl.metadata (8.6 kB)\n",
      "Collecting MarkupSafe>=2.0 (from jinja2->torch)\n",
      "  Downloading MarkupSafe-3.0.2-cp313-cp313-macosx_11_0_arm64.whl.metadata (4.0 kB)\n",
      "Downloading torch-2.8.0-cp313-none-macosx_11_0_arm64.whl (73.6 MB)\n",
      "\u001b[2K   \u001b[90m━━━━━━━━━━━━━━━━━━━━━━━━━━━━━━━━━━━━━━━━\u001b[0m \u001b[32m73.6/73.6 MB\u001b[0m \u001b[31m13.0 MB/s\u001b[0m  \u001b[33m0:00:05\u001b[0m eta \u001b[36m0:00:01\u001b[0m\n",
      "\u001b[?25hUsing cached sympy-1.14.0-py3-none-any.whl (6.3 MB)\n",
      "Using cached mpmath-1.3.0-py3-none-any.whl (536 kB)\n",
      "Using cached typing_extensions-4.15.0-py3-none-any.whl (44 kB)\n",
      "Using cached filelock-3.19.1-py3-none-any.whl (15 kB)\n",
      "Using cached fsspec-2025.9.0-py3-none-any.whl (199 kB)\n",
      "Using cached jinja2-3.1.6-py3-none-any.whl (134 kB)\n",
      "Downloading MarkupSafe-3.0.2-cp313-cp313-macosx_11_0_arm64.whl (12 kB)\n",
      "Using cached networkx-3.5-py3-none-any.whl (2.0 MB)\n",
      "Downloading setuptools-80.9.0-py3-none-any.whl (1.2 MB)\n",
      "\u001b[2K   \u001b[90m━━━━━━━━━━━━━━━━━━━━━━━━━━━━━━━━━━━━━━━━\u001b[0m \u001b[32m1.2/1.2 MB\u001b[0m \u001b[31m19.0 MB/s\u001b[0m  \u001b[33m0:00:00\u001b[0m\n",
      "\u001b[?25hInstalling collected packages: mpmath, typing-extensions, sympy, setuptools, networkx, MarkupSafe, fsspec, filelock, jinja2, torch\n",
      "\u001b[2K   \u001b[90m━━━━━━━━━━━━━━━━━━━━━━━━━━━━━━━━━━━━━━━━\u001b[0m \u001b[32m10/10\u001b[0m [torch]m 9/10\u001b[0m [torch]kx]s]\n",
      "\u001b[1A\u001b[2KSuccessfully installed MarkupSafe-3.0.2 filelock-3.19.1 fsspec-2025.9.0 jinja2-3.1.6 mpmath-1.3.0 networkx-3.5 setuptools-80.9.0 sympy-1.14.0 torch-2.8.0 typing-extensions-4.15.0\n",
      "✓ PyTorch 설치 완료!\n"
     ]
    }
   ],
   "source": [
    "# PyTorch 설치 확인 및 설치\n",
    "import sys\n",
    "import subprocess\n",
    "\n",
    "try:\n",
    "    import torch\n",
    "    print(\"✓ PyTorch가 이미 설치되어 있습니다!\")\n",
    "except ImportError:\n",
    "    print(\"PyTorch를 설치하는 중...\")\n",
    "    subprocess.check_call([sys.executable, \"-m\", \"pip\", \"install\", \"torch\"])\n",
    "    print(\"✓ PyTorch 설치 완료!\")\n"
   ]
  },
  {
   "cell_type": "code",
   "execution_count": 9,
   "id": "gpu-auto-detect",
   "metadata": {},
   "outputs": [
    {
     "name": "stderr",
     "output_type": "stream",
     "text": [
      "/Users/songdongseon/AI/.venv/lib/python3.13/site-packages/torch/_subclasses/functional_tensor.py:279: UserWarning: Failed to initialize NumPy: No module named 'numpy' (Triggered internally at /Users/runner/work/pytorch/pytorch/pytorch/torch/csrc/utils/tensor_numpy.cpp:81.)\n",
      "  cpu = _conversion_method_template(device=torch.device(\"cpu\"))\n"
     ]
    },
    {
     "name": "stdout",
     "output_type": "stream",
     "text": [
      "✓ PyTorch is successfully imported!\n",
      "PyTorch version: 2.8.0\n",
      "✓ MPS is available! Using Apple Silicon GPU.\n",
      "✓ Test tensor created: tensor([1, 2, 3, 4, 5], device='mps:0')\n",
      "Tensor shape: torch.Size([5])\n",
      "Tensor device: mps:0\n",
      "✓ Basic operation test (squaring): tensor([ 1,  4,  9, 16, 25], device='mps:0')\n",
      "\n",
      "🎉 PyTorch is working correctly on the specified device!\n"
     ]
    }
   ],
   "source": [
    "try:\n",
    "    import torch\n",
    "    print(\"✓ PyTorch is successfully imported!\")\n",
    "    print(f\"PyTorch version: {torch.__version__}\")\n",
    "\n",
    "    if torch.backends.mps.is_available():\n",
    "        device = torch.device(\"mps\")\n",
    "        print(f\"✓ MPS is available! Using Apple Silicon GPU.\")\n",
    "    else:\n",
    "        device = torch.device(\"cpu\")\n",
    "        print(\"MPS is not available. Using CPU.\")\n",
    "\n",
    "    test_tensor = torch.tensor([1, 2, 3, 4, 5]).to(device)\n",
    "    \n",
    "    print(f\"✓ Test tensor created: {test_tensor}\")\n",
    "    print(f\"Tensor shape: {test_tensor.shape}\")\n",
    "    print(f\"Tensor device: {test_tensor.device}\")\n",
    "\n",
    "    squared_tensor = test_tensor ** 2\n",
    "    print(f\"✓ Basic operation test (squaring): {squared_tensor}\")\n",
    "\n",
    "    print(\"\\n🎉 PyTorch is working correctly on the specified device!\")\n",
    "\n",
    "except ImportError as e:\n",
    "    print(\"❌ PyTorch is not installed or not available\")\n",
    "    print(f\"Error details: {e}\")\n",
    "    print(\"Please install PyTorch using: pip install torch\")\n",
    "\n",
    "except Exception as e:\n",
    "    print(f\"❌ An error occurred while testing PyTorch: {e}\")    "
   ]
  }
 ],
 "metadata": {
  "kernelspec": {
   "display_name": ".venv",
   "language": "python",
   "name": "python3"
  },
  "language_info": {
   "codemirror_mode": {
    "name": "ipython",
    "version": 3
   },
   "file_extension": ".py",
   "mimetype": "text/x-python",
   "name": "python",
   "nbconvert_exporter": "python",
   "pygments_lexer": "ipython3",
   "version": "3.13.5"
  }
 },
 "nbformat": 4,
 "nbformat_minor": 5
}
